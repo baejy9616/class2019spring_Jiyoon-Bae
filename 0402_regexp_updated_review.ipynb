{
 "cells": [
  {
   "cell_type": "markdown",
   "metadata": {},
   "source": [
    "### 0402 regexp_updated_review"
   ]
  },
  {
   "cell_type": "code",
   "execution_count": null,
   "metadata": {},
   "outputs": [],
   "source": [
    "import nltk\n",
    "import re"
   ]
  },
  {
   "cell_type": "code",
   "execution_count": null,
   "metadata": {},
   "outputs": [],
   "source": [
    "''' Basic Regular Expression Meta-Characters, Including Wildcards, Ranges and Closures\n",
    ".\t        Wildcard, matches any character\n",
    "^abc\t    Matches some pattern abc at the start of a string\n",
    "abc$\t    Matches some pattern abc at the end of a string\n",
    "[abc]\t    Matches one of a set of characters\n",
    "[^abc]      Matches anything but a set of characters\n",
    "[A-Z0-9]\tMatches one of a range of characters\n",
    "ed|ing|s\tMatches one of the specified strings (disjunction)\n",
    "*\t        Zero or more of previous item, e.g. a*, [a-z]* (also known as Kleene Closure)\n",
    "+\t        One or more of previous item, e.g. a+, [a-z]+\n",
    "?\t        Zero or one of the previous item (i.e. optional), e.g. a?, [a-z]?\n",
    "{n}\t        Exactly n repeats where n is a non-negative integer\n",
    "{n,}\t    At least n repeats\n",
    "{,n}\t    No more than n repeats\n",
    "{m,n}\t    At least m and no more than n repeats\n",
    "a(b|c)+\t    Parentheses that indicate the scope of the operators\n",
    "(...)       Matches whatever regular expression is inside the parentheses\n",
    "'''"
   ]
  },
  {
   "cell_type": "markdown",
   "metadata": {},
   "source": [
    "#### 1. findall 함수\n",
    "\n",
    "re.findall과 re.search는 다른 기능을 가진다: findall은 관련 string을 다 찾아옴\n",
    "\n"
   ]
  },
  {
   "cell_type": "markdown",
   "metadata": {},
   "source": [
    "1. re.findall('[aeiou]', word) = 단어에서 a e i o u 를 모두 찾기\n",
    "\n",
    "2. re.findall('[aeiou] (..) [aeiou]', word) = 모음을 양쪽에 둔 (..) 이 두 개의 character만 가져오기\n",
    "\n",
    "*(...) Matches whatever regular expression is inside the parentheses\n",
    "\n",
    "3. re.findall('[^aeiou].+[^aeiou]' = (모음이 아닌 것+한자리 or more character) + 모음이 아닌 것 ->greedy search: 내부적인 것은 찾지 않으므로 결과로 단어 전체를 찾음\n",
    "\n",
    "4. re.findall('[^aeiou].+?[^aeiou]', word) = 믈음표는 optional, reluctant seaach: 가능한 좁은 범위"
   ]
  },
  {
   "cell_type": "code",
   "execution_count": null,
   "metadata": {},
   "outputs": [],
   "source": [
    "word = 'supercalifragilisticexpialidocious'\n",
    "\n",
    "result = re.findall('[aeiou]', word)\n",
    "print(result)\n",
    "\n",
    "result = re.findall('[aeiou](..)[aeiou]', word)\n",
    "print(result)\n",
    "\n",
    "result = re.findall('[^aeiou].+[^aeiou]', word) # greedy search\n",
    "print(result)\n",
    "\n",
    "result = re.findall('[^aeiou].+?[^aeiou]', word) # reluctant search\n",
    "print(result)"
   ]
  },
  {
   "cell_type": "code",
   "execution_count": null,
   "metadata": {},
   "outputs": [],
   "source": [
    "wsj = sorted(set(nltk.corpus.treebank.words()))\n",
    "#한 집함(set)에서 중복이 없게 sorted 사전화\n",
    "print(wsj)"
   ]
  },
  {
   "cell_type": "markdown",
   "metadata": {},
   "source": [
    "[vs for word in wsj for vs in re.findall('[aeiou]{2,}', word)]\n",
    "\n",
    ":for loop 두 개로 만든 list\n",
    "\n",
    "wsj 각각의 단어 -> 단어 안에서 [aeiou]{2,}인 단어를 모두 찾아라"
   ]
  },
  {
   "cell_type": "code",
   "execution_count": null,
   "metadata": {},
   "outputs": [],
   "source": [
    "wordList = [vs for word in wsj for vs in re.findall('[aeiou]{2,}', word)]\n",
    "wordList"
   ]
  },
  {
   "cell_type": "code",
   "execution_count": null,
   "metadata": {},
   "outputs": [],
   "source": [
    "fdist = nltk.FreqDist(wordList)\n",
    "#어떤 모음의 연속이 빈도수가 가장 높은가\n",
    "fdist.most_common(10)"
   ]
  },
  {
   "cell_type": "markdown",
   "metadata": {},
   "source": [
    "#### 2. uhdr corpus을 사용한 예시, 새로운 함수 만들기"
   ]
  },
  {
   "cell_type": "code",
   "execution_count": null,
   "metadata": {},
   "outputs": [],
   "source": [
    "english_udhr = nltk.corpus.udhr.words('English-Latin1')\n",
    "print(english_udhr)"
   ]
  },
  {
   "cell_type": "markdown",
   "metadata": {},
   "source": [
    "\n",
    "regexp = '^[AEIOUaeiou]+|[AEIOUaeiou]+$|[^AEIOUaeiou]'\n",
    "\n",
    "->대문자든 소문자든 모음으로 시작하는 것을 찾아라 or 모음이 들어간 것을 찾아라 or 모음을 제외하고 찾아라\n",
    "\n",
    "def compress(word)\n",
    "\n",
    "    : 함수의 이름은 compress이고 word라는 변수를 입력한다 (for loop처럼 :과 indentation 필요)\n",
    "\n",
    "pieces = re.findall(regexp, word)\n",
    "\n",
    "    : 변수 word에서 regexp인 단어를 findall한 list\n",
    "\n",
    "return ''.join(pieces)\n",
    "\n",
    "    : return은 그 출력값 ->위의 결과로 나온 pieces를 space로 join해라    "
   ]
  },
  {
   "cell_type": "code",
   "execution_count": null,
   "metadata": {},
   "outputs": [],
   "source": [
    "regexp = '^[AEIOUaeiou]+|[AEIOUaeiou]+$|[^AEIOUaeiou]'\n",
    "def compress(word):\n",
    "    pieces = re.findall(regexp, word)\n",
    "    return ''.join(pieces)\n",
    "[compress(w) for w in english_udhr[:75]]"
   ]
  },
  {
   "cell_type": "markdown",
   "metadata": {},
   "source": [
    "#### 3. rotokas 를 사용한 예시"
   ]
  },
  {
   "cell_type": "code",
   "execution_count": null,
   "metadata": {},
   "outputs": [],
   "source": [
    "rotokas_words = nltk.corpus.toolbox.words('rotokas.dic')\n",
    "print(rotokas_words)"
   ]
  },
  {
   "cell_type": "code",
   "execution_count": null,
   "metadata": {},
   "outputs": [],
   "source": [
    "cvs = [cv for w in rotokas_words for cv in re.findall('[ptksvr][aeiou]', w)]\n",
    "#[ptksvr]과 [aeiou]으로 이루어진것 findall의 list\n",
    "print(cvs)"
   ]
  },
  {
   "cell_type": "code",
   "execution_count": null,
   "metadata": {},
   "outputs": [],
   "source": [
    "cfd = nltk.ConditionalFreqDist(cvs) # CFD works pairwise only\n",
    "    #ConditionalFreqDist는 '[ptksvr][aeiou]' 처럼 pair에만 쓸 수 있음\n",
    "cfd.tabulate()"
   ]
  },
  {
   "cell_type": "code",
   "execution_count": null,
   "metadata": {},
   "outputs": [],
   "source": []
  }
 ],
 "metadata": {
  "kernelspec": {
   "display_name": "Python 3",
   "language": "python",
   "name": "python3"
  },
  "language_info": {
   "codemirror_mode": {
    "name": "ipython",
    "version": 3
   },
   "file_extension": ".py",
   "mimetype": "text/x-python",
   "name": "python",
   "nbconvert_exporter": "python",
   "pygments_lexer": "ipython3",
   "version": "3.7.1"
  }
 },
 "nbformat": 4,
 "nbformat_minor": 2
}
