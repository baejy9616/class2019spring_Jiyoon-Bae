{
 "cells": [
  {
   "cell_type": "markdown",
   "metadata": {},
   "source": [
    "### 0312 SYNTAX 복습\n",
    "#### for과 if의 사용"
   ]
  },
  {
   "cell_type": "markdown",
   "metadata": {},
   "source": [
    "1. a가 숫자의 list일 때 \n",
    "\n",
    "    for i in a: ->a list의 구성요소 하나하나를 i라는 변수로 받는다\n",
    "    \n",
    "   *무조건 colon 필요, end 대신 indentation*\n",
    "   \n",
    "   range(n)-> range(0, n)인 경우는 0, 1, 2, .. , n-1\n",
    "   \n",
    "   len(a)는 갯수"
   ]
  },
  {
   "cell_type": "code",
   "execution_count": null,
   "metadata": {},
   "outputs": [],
   "source": [
    "c = [5, 6, 7, 8, 9]\n",
    "for i in c:\n",
    "    print(i)"
   ]
  },
  {
   "cell_type": "markdown",
   "metadata": {},
   "source": [
    "5, 6, 7, 8, 9"
   ]
  },
  {
   "cell_type": "code",
   "execution_count": null,
   "metadata": {
    "scrolled": true
   },
   "outputs": [],
   "source": [
    "c =[5, 6, 7, 8, 9]\n",
    "for i in range(len(c)):\n",
    "    print (i+5)"
   ]
  },
  {
   "cell_type": "markdown",
   "metadata": {},
   "source": [
    "5, 6, 7, 8, 9"
   ]
  },
  {
   "cell_type": "markdown",
   "metadata": {},
   "source": [
    "2. string으로 구성된 list 일 때"
   ]
  },
  {
   "cell_type": "code",
   "execution_count": null,
   "metadata": {},
   "outputs": [],
   "source": [
    "a = ['red', 'green', 'blue', 'purple']\n",
    "for i in a:\n",
    "    print(i)"
   ]
  },
  {
   "cell_type": "markdown",
   "metadata": {},
   "source": [
    "red green blue purple"
   ]
  },
  {
   "cell_type": "code",
   "execution_count": null,
   "metadata": {},
   "outputs": [],
   "source": [
    "a = ['red', 'green', 'blue', 'purple']\n",
    "for i in range(len(a)):\n",
    "    print(a[i])"
   ]
  },
  {
   "cell_type": "markdown",
   "metadata": {},
   "source": [
    "i는 range(0, 4)\n",
    "\n",
    "a[i]는 red, green, blue, purple"
   ]
  },
  {
   "cell_type": "code",
   "execution_count": null,
   "metadata": {},
   "outputs": [],
   "source": [
    "a = [\"red\", \"green\", \"blue\", \"purple\"]\n",
    "b = [0.2, 0.3, 0.1, 0.4]\n",
    "for i, a_ in enumerate(a):\n",
    "    print(\"{}: {}%\".format(a_, b[i]*100))"
   ]
  },
  {
   "cell_type": "markdown",
   "metadata": {},
   "source": [
    "##### enumerate라는 함수는 순서 숫자를 부여한다\n",
    "\n",
    " i에 0, 1, 2, 3이라는 순서를 부여하고 a는 그대로 a로 쓰는 것\n",
    "\n",
    ".format뒤에 (a_, b[i]*100) 각각이 중괄호 속으로 들어감\n",
    ".format(a_, b[i]*100)"
   ]
  },
  {
   "cell_type": "code",
   "execution_count": null,
   "metadata": {},
   "outputs": [],
   "source": [
    "a = [\"quiz\", \"participation\", \"midterm\", \"final\"]\n",
    "b = [0.15, 0.15, 0.3, 0.3]\n",
    "for i, a in enumerate(a):\n",
    "    print(\"{} counts for {}% this semester.\".format(a, b[i]*100))"
   ]
  },
  {
   "cell_type": "markdown",
   "metadata": {},
   "source": [
    "##### enumerate 함수 대신 zip 함수를 쓰기\n",
    "\n",
    "a와 b가 parallel 한 경우\n",
    "\n",
    "a와 a_는 다른 변수이므로 이름 다르게 써야 함!!\n",
    "\n",
    "print(\"{} : {}%\".format(a_, b_)"
   ]
  },
  {
   "cell_type": "code",
   "execution_count": null,
   "metadata": {},
   "outputs": [],
   "source": [
    "a = [\"red\", \"green\", \"blue\", \"purple\"]\n",
    "b = [0.2, 0.3, 0.1, 0.4]\n",
    "for a_, b_ in zip(a, b):\n",
    "    print(\"{}: {}%\".format(a_, b_*100))\n"
   ]
  },
  {
   "cell_type": "code",
   "execution_count": null,
   "metadata": {},
   "outputs": [],
   "source": [
    "a = [\"Korean\", \"English\", \"Japanese\"]\n",
    "b = [0.5, 0.2, 0.3]\n",
    "for i, j, in zip(a, b):\n",
    "    print(\"{} : {}%\".format(i, j*100))"
   ]
  },
  {
   "cell_type": "markdown",
   "metadata": {},
   "source": [
    "#### IF"
   ]
  },
  {
   "cell_type": "markdown",
   "metadata": {},
   "source": [
    "if문에서\n",
    "\n",
    "\"a가 0이면\" -> if a == 0:\n",
    "\n",
    "a가 0보다 크거나 같다 -> a >= 0"
   ]
  },
  {
   "cell_type": "code",
   "execution_count": null,
   "metadata": {},
   "outputs": [],
   "source": [
    "a = 0\n",
    "if a == 0:\n",
    "    print(a)\n",
    "else:\n",
    "     print(a+1)"
   ]
  },
  {
   "cell_type": "markdown",
   "metadata": {},
   "source": [
    "0"
   ]
  },
  {
   "cell_type": "markdown",
   "metadata": {},
   "source": [
    "이중 for loop"
   ]
  },
  {
   "cell_type": "code",
   "execution_count": null,
   "metadata": {},
   "outputs": [],
   "source": [
    "for i in range(1, 3):\n",
    "    for j in range(3, 5):\n",
    "        print(i*j)"
   ]
  },
  {
   "cell_type": "markdown",
   "metadata": {},
   "source": [
    "i는 1, 2\n",
    "\n",
    "j는 3, 4\n",
    "\n",
    "i*j 는 3, 4, 6, 8"
   ]
  },
  {
   "cell_type": "code",
   "execution_count": null,
   "metadata": {},
   "outputs": [],
   "source": [
    "for i in range(1, 3):\n",
    "    for j in range(3, 5):\n",
    "        if j >=4:\n",
    "            print(i*j)"
   ]
  },
  {
   "cell_type": "markdown",
   "metadata": {},
   "source": [
    "i는 1, 2\n",
    "\n",
    "j는 3, 4\n",
    "\n",
    "j가 4보다 크거나 같다면 i*j \n",
    "\n",
    "4, 8"
   ]
  },
  {
   "cell_type": "markdown",
   "metadata": {},
   "source": [
    "!!중요!!\n",
    "\n",
    "for loop가 list 한 줄에 들어가있는 것"
   ]
  },
  {
   "cell_type": "code",
   "execution_count": null,
   "metadata": {},
   "outputs": [],
   "source": [
    "a = [1, 2, 3, 4]\n",
    "b = [i for i in a if i >=2]\n",
    "b"
   ]
  },
  {
   "cell_type": "code",
   "execution_count": null,
   "metadata": {},
   "outputs": [],
   "source": [
    "a = [234, 521, 543, 1234, 345, 400 ,54311]\n",
    "b = [i for i in a if i >=400]\n",
    "print(b)"
   ]
  },
  {
   "cell_type": "code",
   "execution_count": null,
   "metadata": {},
   "outputs": [],
   "source": [
    "a = ['red', 'green', 'blue', 'purple']\n",
    "b = [i for i in a if len(i) >=4]\n",
    "b"
   ]
  },
  {
   "cell_type": "code",
   "execution_count": null,
   "metadata": {},
   "outputs": [],
   "source": [
    "a = [\"one\", \"two\", \"three\", \"four\", \"eleven\"]\n",
    "b = [i for i in a if len(i)>=4]\n",
    "b"
   ]
  },
  {
   "cell_type": "code",
   "execution_count": null,
   "metadata": {},
   "outputs": [],
   "source": []
  }
 ],
 "metadata": {
  "kernelspec": {
   "display_name": "Python 3",
   "language": "python",
   "name": "python3"
  },
  "language_info": {
   "codemirror_mode": {
    "name": "ipython",
    "version": 3
   },
   "file_extension": ".py",
   "mimetype": "text/x-python",
   "name": "python",
   "nbconvert_exporter": "python",
   "pygments_lexer": "ipython3",
   "version": "3.7.1"
  }
 },
 "nbformat": 4,
 "nbformat_minor": 2
}
