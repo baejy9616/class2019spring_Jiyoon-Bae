{
 "cells": [
  {
   "cell_type": "markdown",
   "metadata": {},
   "source": [
    "# 0430-0502 RegressionKR_Review"
   ]
  },
  {
   "cell_type": "markdown",
   "metadata": {},
   "source": [
    "# import modules"
   ]
  },
  {
   "cell_type": "markdown",
   "metadata": {},
   "source": [
    "- 입력값과 출력값은 벡터, 그 사이의 추론해낸 행렬 함수가 인공신경망"
   ]
  },
  {
   "cell_type": "code",
   "execution_count": 1,
   "metadata": {
    "scrolled": true
   },
   "outputs": [],
   "source": [
    "import pandas as pd \n",
    "import numpy as np\n",
    "import matplotlib.pyplot as plt\n",
    "\n",
    "from tensorflow.keras.models import Sequential\n",
    "from tensorflow.keras.layers import Dense"
   ]
  },
  {
   "cell_type": "markdown",
   "metadata": {},
   "source": [
    "1. pandas: 엑셀에서 데이터 불러오는데 유용\n",
    "2. numpy: 행렬의 형태\n",
    "3. matplotlib: plotting, visualization"
   ]
  },
  {
   "cell_type": "markdown",
   "metadata": {},
   "source": [
    "# data preparation and visualization"
   ]
  },
  {
   "cell_type": "markdown",
   "metadata": {},
   "source": [
    "- visualization of pattern"
   ]
  },
  {
   "cell_type": "code",
   "execution_count": 3,
   "metadata": {},
   "outputs": [
    {
     "data": {
      "text/plain": [
       "[<matplotlib.lines.Line2D at 0x1bf66d3dc18>]"
      ]
     },
     "execution_count": 3,
     "metadata": {},
     "output_type": "execute_result"
    },
    {
     "data": {
      "image/png": "[encoded data removed]",
      "text/plain": [
       "<Figure size 432x288 with 1 Axes>"
      ]
     },
     "metadata": {
      "needs_background": "light"
     },
     "output_type": "display_data"
    }
   ],
   "source": [
    "pd.read_csv('regression.csv')\n",
    "data = pd.read_csv('regression.csv')\n",
    "X = data['X']\n",
    "Y = data['Y']             \n",
    "plt.plot(X,Y, '.')"
   ]
  },
  {
   "cell_type": "markdown",
   "metadata": {},
   "source": [
    "# create model"
   ]
  },
  {
   "cell_type": "markdown",
   "metadata": {},
   "source": [
    "- creating 인공신경망 모델 (모델이란 : 함수 y=ax+b)\n",
    "\n",
    "- sequential: 모든 입력 벡터는 하나의 sequential을 따른다\n",
    "\n",
    "model.add(Dense(1, input_shape=[1])) -> Dense(출력부=y의 갯수, input shape=[n] = 입력부의 갯수) ->y=ax+b"
   ]
  },
  {
   "cell_type": "markdown",
   "metadata": {},
   "source": [
    "1. Sequential() ->모델의 시작\n",
    "\n",
    "2. model.add ->모델을 정의 (출력, 입력) / dense: 모델이 fully connected 되어있다\n",
    "\n",
    "        - (Dense(1, input_shape=[1])) = (출력부=y의 갯수, input shape=[x] = 입력부의 갯수) ->y=ax+b\n",
    "        \n",
    "3. sdg: 미분 알고리즘 / loss: 정답값과 예측값의 차이를 구하는 방법 ->complie: 모델 정의"
   ]
  },
  {
   "cell_type": "code",
   "execution_count": 4,
   "metadata": {
    "scrolled": true
   },
   "outputs": [
    {
     "name": "stdout",
     "output_type": "stream",
     "text": [
      "WARNING:tensorflow:From C:\\Users\\baejy\\Anaconda3\\lib\\site-packages\\tensorflow\\python\\ops\\resource_variable_ops.py:435: colocate_with (from tensorflow.python.framework.ops) is deprecated and will be removed in a future version.\n",
      "Instructions for updating:\n",
      "Colocations handled automatically by placer.\n",
      "WARNING:tensorflow:From C:\\Users\\baejy\\Anaconda3\\lib\\site-packages\\tensorflow\\python\\keras\\utils\\losses_utils.py:170: to_float (from tensorflow.python.ops.math_ops) is deprecated and will be removed in a future version.\n",
      "Instructions for updating:\n",
      "Use tf.cast instead.\n"
     ]
    }
   ],
   "source": [
    "model = Sequential()\n",
    "model.add(Dense(1, input_shape=[1]))\n",
    "model.compile(optimizer='sgd', loss='mse')"
   ]
  },
  {
   "cell_type": "markdown",
   "metadata": {},
   "source": [
    "# train model"
   ]
  },
  {
   "cell_type": "markdown",
   "metadata": {},
   "source": [
    "- creating good model = fil한 a, b값을 만드는것"
   ]
  },
  {
   "cell_type": "code",
   "execution_count": 5,
   "metadata": {
    "scrolled": true
   },
   "outputs": [
    {
     "name": "stdout",
     "output_type": "stream",
     "text": [
      "WARNING:tensorflow:From C:\\Users\\baejy\\Anaconda3\\lib\\site-packages\\tensorflow\\python\\ops\\math_ops.py:3066: to_int32 (from tensorflow.python.ops.math_ops) is deprecated and will be removed in a future version.\n",
      "Instructions for updating:\n",
      "Use tf.cast instead.\n",
      "Epoch 1/100\n",
      "17/17 [==============================] - 0s 22ms/sample - loss: 0.4118\n",
      "Epoch 2/100\n",
      "17/17 [==============================] - 0s 123us/sample - loss: 0.2324\n",
      "Epoch 3/100\n",
      "17/17 [==============================] - 0s 140us/sample - loss: 0.2304\n",
      "Epoch 4/100\n",
      "17/17 [==============================] - 0s 61us/sample - loss: 0.2300\n",
      "Epoch 5/100\n",
      "17/17 [==============================] - 0s 145us/sample - loss: 0.2296\n",
      "Epoch 6/100\n",
      "17/17 [==============================] - 0s 142us/sample - loss: 0.2293\n",
      "Epoch 7/100\n",
      "17/17 [==============================] - 0s 142us/sample - loss: 0.2289\n",
      "Epoch 8/100\n",
      "17/17 [==============================] - 0s 112us/sample - loss: 0.2285\n",
      "Epoch 9/100\n",
      "17/17 [==============================] - 0s 235us/sample - loss: 0.2282\n",
      "Epoch 10/100\n",
      "17/17 [==============================] - 0s 163us/sample - loss: 0.2278\n",
      "Epoch 11/100\n",
      "17/17 [==============================] - 0s 232us/sample - loss: 0.2274\n",
      "Epoch 12/100\n",
      "17/17 [==============================] - 0s 61us/sample - loss: 0.2271\n",
      "Epoch 13/100\n",
      "17/17 [==============================] - 0s 190us/sample - loss: 0.2267\n",
      "Epoch 14/100\n",
      "17/17 [==============================] - 0s 59us/sample - loss: 0.2264\n",
      "Epoch 15/100\n",
      "17/17 [==============================] - 0s 59us/sample - loss: 0.2260\n",
      "Epoch 16/100\n",
      "17/17 [==============================] - 0s 178us/sample - loss: 0.2257\n",
      "Epoch 17/100\n",
      "17/17 [==============================] - 0s 120us/sample - loss: 0.2253\n",
      "Epoch 18/100\n",
      "17/17 [==============================] - 0s 117us/sample - loss: 0.2250\n",
      "Epoch 19/100\n",
      "17/17 [==============================] - 0s 58us/sample - loss: 0.2246\n",
      "Epoch 20/100\n",
      "17/17 [==============================] - 0s 292us/sample - loss: 0.2243\n",
      "Epoch 21/100\n",
      "17/17 [==============================] - 0s 141us/sample - loss: 0.2240\n",
      "Epoch 22/100\n",
      "17/17 [==============================] - 0s 122us/sample - loss: 0.2236\n",
      "Epoch 23/100\n",
      "17/17 [==============================] - 0s 121us/sample - loss: 0.2233\n",
      "Epoch 24/100\n",
      "17/17 [==============================] - 0s 110us/sample - loss: 0.2229\n",
      "Epoch 25/100\n",
      "17/17 [==============================] - 0s 120us/sample - loss: 0.2226\n",
      "Epoch 26/100\n",
      "17/17 [==============================] - 0s 185us/sample - loss: 0.2223\n",
      "Epoch 27/100\n",
      "17/17 [==============================] - 0s 59us/sample - loss: 0.2219\n",
      "Epoch 28/100\n",
      "17/17 [==============================] - 0s 122us/sample - loss: 0.2216\n",
      "Epoch 29/100\n",
      "17/17 [==============================] - 0s 128us/sample - loss: 0.2213\n",
      "Epoch 30/100\n",
      "17/17 [==============================] - 0s 194us/sample - loss: 0.2210\n",
      "Epoch 31/100\n",
      "17/17 [==============================] - 0s 144us/sample - loss: 0.2206\n",
      "Epoch 32/100\n",
      "17/17 [==============================] - 0s 123us/sample - loss: 0.2203\n",
      "Epoch 33/100\n",
      "17/17 [==============================] - 0s 59us/sample - loss: 0.2200\n",
      "Epoch 34/100\n",
      "17/17 [==============================] - 0s 117us/sample - loss: 0.2197\n",
      "Epoch 35/100\n",
      "17/17 [==============================] - 0s 174us/sample - loss: 0.2193\n",
      "Epoch 36/100\n",
      "17/17 [==============================] - 0s 249us/sample - loss: 0.2190\n",
      "Epoch 37/100\n",
      "17/17 [==============================] - 0s 161us/sample - loss: 0.2187\n",
      "Epoch 38/100\n",
      "17/17 [==============================] - 0s 61us/sample - loss: 0.2184\n",
      "Epoch 39/100\n",
      "17/17 [==============================] - 0s 59us/sample - loss: 0.2181\n",
      "Epoch 40/100\n",
      "17/17 [==============================] - 0s 137us/sample - loss: 0.2178\n",
      "Epoch 41/100\n",
      "17/17 [==============================] - 0s 161us/sample - loss: 0.2175\n",
      "Epoch 42/100\n",
      "17/17 [==============================] - 0s 261us/sample - loss: 0.2172\n",
      "Epoch 43/100\n",
      "17/17 [==============================] - 0s 147us/sample - loss: 0.2168\n",
      "Epoch 44/100\n",
      "17/17 [==============================] - 0s 150us/sample - loss: 0.2165\n",
      "Epoch 45/100\n",
      "17/17 [==============================] - 0s 192us/sample - loss: 0.2162\n",
      "Epoch 46/100\n",
      "17/17 [==============================] - 0s 154us/sample - loss: 0.2159\n",
      "Epoch 47/100\n",
      "17/17 [==============================] - 0s 0s/sample - loss: 0.2156\n",
      "Epoch 48/100\n",
      "17/17 [==============================] - 0s 132us/sample - loss: 0.2153\n",
      "Epoch 49/100\n",
      "17/17 [==============================] - 0s 157us/sample - loss: 0.2150\n",
      "Epoch 50/100\n",
      "17/17 [==============================] - 0s 190us/sample - loss: 0.2147\n",
      "Epoch 51/100\n",
      "17/17 [==============================] - 0s 106us/sample - loss: 0.2144\n",
      "Epoch 52/100\n",
      "17/17 [==============================] - 0s 128us/sample - loss: 0.2141\n",
      "Epoch 53/100\n",
      "17/17 [==============================] - 0s 97us/sample - loss: 0.2139\n",
      "Epoch 54/100\n",
      "17/17 [==============================] - 0s 205us/sample - loss: 0.2136\n",
      "Epoch 55/100\n",
      "17/17 [==============================] - 0s 147us/sample - loss: 0.2133\n",
      "Epoch 56/100\n",
      "17/17 [==============================] - 0s 130us/sample - loss: 0.2130\n",
      "Epoch 57/100\n",
      "17/17 [==============================] - 0s 192us/sample - loss: 0.2127\n",
      "Epoch 58/100\n",
      "17/17 [==============================] - 0s 172us/sample - loss: 0.2124\n",
      "Epoch 59/100\n",
      "17/17 [==============================] - 0s 97us/sample - loss: 0.2121\n",
      "Epoch 60/100\n",
      "17/17 [==============================] - 0s 176us/sample - loss: 0.2118\n",
      "Epoch 61/100\n",
      "17/17 [==============================] - 0s 129us/sample - loss: 0.2116\n",
      "Epoch 62/100\n",
      "17/17 [==============================] - 0s 117us/sample - loss: 0.2113\n",
      "Epoch 63/100\n",
      "17/17 [==============================] - 0s 116us/sample - loss: 0.2110\n",
      "Epoch 64/100\n",
      "17/17 [==============================] - 0s 75us/sample - loss: 0.2107\n",
      "Epoch 65/100\n",
      "17/17 [==============================] - 0s 126us/sample - loss: 0.2105\n",
      "Epoch 66/100\n",
      "17/17 [==============================] - 0s 160us/sample - loss: 0.2102\n",
      "Epoch 67/100\n",
      "17/17 [==============================] - 0s 117us/sample - loss: 0.2099\n",
      "Epoch 68/100\n",
      "17/17 [==============================] - 0s 155us/sample - loss: 0.2096\n",
      "Epoch 69/100\n",
      "17/17 [==============================] - 0s 165us/sample - loss: 0.2094\n",
      "Epoch 70/100\n",
      "17/17 [==============================] - 0s 94us/sample - loss: 0.2091\n",
      "Epoch 71/100\n",
      "17/17 [==============================] - 0s 116us/sample - loss: 0.2088\n",
      "Epoch 72/100\n",
      "17/17 [==============================] - 0s 199us/sample - loss: 0.2086\n",
      "Epoch 73/100\n",
      "17/17 [==============================] - 0s 122us/sample - loss: 0.2083\n",
      "Epoch 74/100\n",
      "17/17 [==============================] - 0s 162us/sample - loss: 0.2080\n",
      "Epoch 75/100\n",
      "17/17 [==============================] - 0s 119us/sample - loss: 0.2078\n",
      "Epoch 76/100\n",
      "17/17 [==============================] - 0s 82us/sample - loss: 0.2075\n",
      "Epoch 77/100\n",
      "17/17 [==============================] - 0s 130us/sample - loss: 0.2072\n",
      "Epoch 78/100\n",
      "17/17 [==============================] - 0s 113us/sample - loss: 0.2070\n",
      "Epoch 79/100\n",
      "17/17 [==============================] - 0s 133us/sample - loss: 0.2067\n",
      "Epoch 80/100\n",
      "17/17 [==============================] - 0s 75us/sample - loss: 0.2065\n",
      "Epoch 81/100\n",
      "17/17 [==============================] - 0s 144us/sample - loss: 0.2062\n",
      "Epoch 82/100\n",
      "17/17 [==============================] - 0s 198us/sample - loss: 0.2060\n",
      "Epoch 83/100\n",
      "17/17 [==============================] - 0s 82us/sample - loss: 0.2057\n",
      "Epoch 84/100\n",
      "17/17 [==============================] - 0s 157us/sample - loss: 0.2055\n",
      "Epoch 85/100\n",
      "17/17 [==============================] - 0s 44us/sample - loss: 0.2052\n",
      "Epoch 86/100\n",
      "17/17 [==============================] - 0s 0s/sample - loss: 0.2050\n",
      "Epoch 87/100\n",
      "17/17 [==============================] - 0s 59us/sample - loss: 0.2047\n",
      "Epoch 88/100\n",
      "17/17 [==============================] - 0s 176us/sample - loss: 0.2045\n",
      "Epoch 89/100\n",
      "17/17 [==============================] - 0s 176us/sample - loss: 0.2042\n",
      "Epoch 90/100\n",
      "17/17 [==============================] - 0s 108us/sample - loss: 0.2040\n",
      "Epoch 91/100\n",
      "17/17 [==============================] - 0s 128us/sample - loss: 0.2037\n",
      "Epoch 92/100\n",
      "17/17 [==============================] - 0s 148us/sample - loss: 0.2035\n",
      "Epoch 93/100\n",
      "17/17 [==============================] - 0s 178us/sample - loss: 0.2033\n",
      "Epoch 94/100\n",
      "17/17 [==============================] - 0s 119us/sample - loss: 0.2030\n"
     ]
    },
    {
     "name": "stdout",
     "output_type": "stream",
     "text": [
      "Epoch 95/100\n",
      "17/17 [==============================] - 0s 0s/sample - loss: 0.2028\n",
      "Epoch 96/100\n",
      "17/17 [==============================] - 0s 178us/sample - loss: 0.2025\n",
      "Epoch 97/100\n",
      "17/17 [==============================] - 0s 131us/sample - loss: 0.2023\n",
      "Epoch 98/100\n",
      "17/17 [==============================] - 0s 176us/sample - loss: 0.2021\n",
      "Epoch 99/100\n",
      "17/17 [==============================] - 0s 127us/sample - loss: 0.2018\n",
      "Epoch 100/100\n",
      "17/17 [==============================] - 0s 120us/sample - loss: 0.2016\n"
     ]
    },
    {
     "data": {
      "text/plain": [
       "<tensorflow.python.keras.callbacks.History at 0x1bf66da40f0>"
      ]
     },
     "execution_count": 5,
     "metadata": {},
     "output_type": "execute_result"
    }
   ],
   "source": [
    "model.fit(X,Y, epochs = 100)"
   ]
  },
  {
   "cell_type": "markdown",
   "metadata": {},
   "source": [
    "- 17/17 : 우리의 17가지 data를 이용하였다\n",
    "\n",
    "- 첫번째에는 data loss가 2였는데 마지막에는 0.1까지 내려감 ->점차 수렴"
   ]
  },
  {
   "cell_type": "markdown",
   "metadata": {},
   "source": [
    "# model prediction"
   ]
  },
  {
   "cell_type": "markdown",
   "metadata": {},
   "source": [
    "- prediction: 위에서 구한 것 a, b값이 실제로도 잘 되는지 확인 (시스템을 만들고 결과를 모르는 상태에서 입력값을 넣어보는 것)\n",
    "\n",
    "- 어떠한 x값을 내가 제공하고, y값을 구함"
   ]
  },
  {
   "cell_type": "code",
   "execution_count": 6,
   "metadata": {
    "scrolled": true
   },
   "outputs": [],
   "source": [
    "x = [0, 1, 2, 3, 4, 5, 6 ,7, 8, 9, 10]\n",
    "y = model.predict(x)"
   ]
  },
  {
   "cell_type": "code",
   "execution_count": 7,
   "metadata": {},
   "outputs": [
    {
     "data": {
      "image/png": "[encoded data removed]",
      "text/plain": [
       "<Figure size 432x288 with 1 Axes>"
      ]
     },
     "metadata": {
      "needs_background": "light"
     },
     "output_type": "display_data"
    }
   ],
   "source": [
    "plt.plot(X,Y,'.')\n",
    "plt.plot(x, y, 'rx')\n",
    "plt.show()"
   ]
  },
  {
   "cell_type": "markdown",
   "metadata": {},
   "source": [
    "# what are a and b in y = ax + b?"
   ]
  },
  {
   "cell_type": "markdown",
   "metadata": {},
   "source": [
    "- 위에서 만든 a, b가 궁금할 때"
   ]
  },
  {
   "cell_type": "markdown",
   "metadata": {},
   "source": [
    "- model.layer: 함수의 층위->우리는 하나만 만들었으므로 [0] 첫번째 하나만 가져옴\n",
    "\n",
    "- weight: 그 값"
   ]
  },
  {
   "cell_type": "code",
   "execution_count": 8,
   "metadata": {
    "scrolled": true
   },
   "outputs": [
    {
     "name": "stdout",
     "output_type": "stream",
     "text": [
      "[array([[0.3390185]], dtype=float32), array([0.17929122], dtype=float32)]\n"
     ]
    }
   ],
   "source": [
    "weight = model.layers[0].get_weights()\n",
    "print(weight)"
   ]
  },
  {
   "cell_type": "markdown",
   "metadata": {},
   "source": [
    "기울기\n",
    "첫번째 결과는 a 값, 두번째는 b"
   ]
  }
 ],
 "metadata": {
  "kernelspec": {
   "display_name": "Python 3",
   "language": "python",
   "name": "python3"
  },
  "language_info": {
   "codemirror_mode": {
    "name": "ipython",
    "version": 3
   },
   "file_extension": ".py",
   "mimetype": "text/x-python",
   "name": "python",
   "nbconvert_exporter": "python",
   "pygments_lexer": "ipython3",
   "version": "3.7.1"
  }
 },
 "nbformat": 4,
 "nbformat_minor": 2
}
